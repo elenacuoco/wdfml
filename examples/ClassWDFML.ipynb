{
 "cells": [
  {
   "cell_type": "code",
   "execution_count": 1,
   "metadata": {
    "collapsed": true
   },
   "outputs": [],
   "source": [
    "import pandas as pd\n",
    "import matplotlib.pylab as plt\n",
    " \n",
    "import numpy as np\n",
    "import pyWDFml.classify\n",
    "%matplotlib inline\n",
    "# Alternatives include bmh, fivethirtyeight, ggplot,\n",
    "# dark_background, seaborn-deep, etc\n",
    "plt.style.use('ggplot') \n",
    "plt.rcParams['font.monospace'] = 'Ubuntu Mono'\n",
    "plt.rcParams['font.size'] = 10\n",
    "plt.rcParams['axes.labelsize'] = 10\n",
    "plt.rcParams['axes.labelweight'] = 'bold'\n",
    "plt.rcParams['xtick.labelsize'] = 8\n",
    "plt.rcParams['ytick.labelsize'] = 8\n",
    "plt.rcParams['legend.fontsize'] = 10\n",
    "plt.rcParams['figure.titlesize'] = 12\n",
    "plt.rcParams['figure.figsize'] = (14, 10)\n",
    " \n",
    "colors = np.array([x for x in 'bgrcmykbgrcmykbgrcmykbgrcmyk'])\n",
    "colors = np.hstack([colors] * 20)"
   ]
  },
  {
   "cell_type": "code",
   "execution_count": 2,
   "metadata": {
    "collapsed": true
   },
   "outputs": [],
   "source": [
    "direc='/home/cuoco/CleanWorks/WDF/wdfml/wdfml/output/H1:GDS-CALIB_STRAIN_1167559536/' \n",
    "fileIn='WDFTrigger-H1:GDS-CALIB_STRAIN-GPS1167559536-AR3000-Win256-Ov232-SNR5.csv'\n",
    " \n",
    "infile=direc+fileIn\n",
    "triggers = pd.read_csv(infile, index_col=False)\n",
    " "
   ]
  },
  {
   "cell_type": "code",
   "execution_count": 3,
   "metadata": {
    "scrolled": true
   },
   "outputs": [
    {
     "data": {
      "text/html": [
       "<div>\n",
       "<style>\n",
       "    .dataframe thead tr:only-child th {\n",
       "        text-align: right;\n",
       "    }\n",
       "\n",
       "    .dataframe thead th {\n",
       "        text-align: left;\n",
       "    }\n",
       "\n",
       "    .dataframe tbody tr th {\n",
       "        vertical-align: top;\n",
       "    }\n",
       "</style>\n",
       "<table border=\"1\" class=\"dataframe\">\n",
       "  <thead>\n",
       "    <tr style=\"text-align: right;\">\n",
       "      <th></th>\n",
       "      <th>Duration</th>\n",
       "      <th>FreqMax</th>\n",
       "      <th>GPSMax</th>\n",
       "      <th>GPSstart</th>\n",
       "      <th>SNRMax</th>\n",
       "      <th>WavCoeff</th>\n",
       "      <th>WaveletFam</th>\n",
       "    </tr>\n",
       "  </thead>\n",
       "  <tbody>\n",
       "    <tr>\n",
       "      <th>0</th>\n",
       "      <td>0.000000</td>\n",
       "      <td>0.0</td>\n",
       "      <td>1.167560e+09</td>\n",
       "      <td>1.167560e+09</td>\n",
       "      <td>5.000000</td>\n",
       "      <td>[0.0, 0.0, 0.0, 0.0, 0.0, 0.0, 0.0, 0.0, 0.0, ...</td>\n",
       "      <td>initWave</td>\n",
       "    </tr>\n",
       "    <tr>\n",
       "      <th>1</th>\n",
       "      <td>0.000000</td>\n",
       "      <td>0.0</td>\n",
       "      <td>0.000000e+00</td>\n",
       "      <td>0.000000e+00</td>\n",
       "      <td>0.000000</td>\n",
       "      <td>[0.0, 0.0, 0.0, 0.0, 0.0, 0.0, 0.0, 0.0, 0.0, ...</td>\n",
       "      <td>NaN</td>\n",
       "    </tr>\n",
       "    <tr>\n",
       "      <th>2</th>\n",
       "      <td>0.017578</td>\n",
       "      <td>203.0</td>\n",
       "      <td>1.167560e+09</td>\n",
       "      <td>1.167560e+09</td>\n",
       "      <td>7.001511</td>\n",
       "      <td>[0.0, 0.0, 0.0, 0.0, 0.0, 0.0, 0.0, 0.0, 0.0, ...</td>\n",
       "      <td>DCT</td>\n",
       "    </tr>\n",
       "    <tr>\n",
       "      <th>3</th>\n",
       "      <td>0.000000</td>\n",
       "      <td>608.0</td>\n",
       "      <td>1.167560e+09</td>\n",
       "      <td>1.167560e+09</td>\n",
       "      <td>5.297187</td>\n",
       "      <td>[0.0, 0.0, 0.0, 0.0, 0.0, 0.0, 0.0, 0.0, 0.0, ...</td>\n",
       "      <td>DCT</td>\n",
       "    </tr>\n",
       "    <tr>\n",
       "      <th>4</th>\n",
       "      <td>0.011719</td>\n",
       "      <td>187.0</td>\n",
       "      <td>1.167560e+09</td>\n",
       "      <td>1.167560e+09</td>\n",
       "      <td>6.291858</td>\n",
       "      <td>[0.0, 0.0, 0.0, 0.0, 0.0, 0.0, 0.0, 0.0, 0.0, ...</td>\n",
       "      <td>DCT</td>\n",
       "    </tr>\n",
       "    <tr>\n",
       "      <th>5</th>\n",
       "      <td>0.000000</td>\n",
       "      <td>1536.0</td>\n",
       "      <td>1.167560e+09</td>\n",
       "      <td>1.167560e+09</td>\n",
       "      <td>5.090548</td>\n",
       "      <td>[0.0, 0.0, 0.0, 0.0, 0.0, 0.0, 0.0, 0.0, 0.0, ...</td>\n",
       "      <td>DCT</td>\n",
       "    </tr>\n",
       "    <tr>\n",
       "      <th>6</th>\n",
       "      <td>0.000000</td>\n",
       "      <td>1544.0</td>\n",
       "      <td>1.167560e+09</td>\n",
       "      <td>1.167560e+09</td>\n",
       "      <td>5.642491</td>\n",
       "      <td>[0.0, 0.0, 0.0, 0.0, 0.0, 0.0, 0.0, 0.0, 0.0, ...</td>\n",
       "      <td>DCT</td>\n",
       "    </tr>\n",
       "    <tr>\n",
       "      <th>7</th>\n",
       "      <td>0.005859</td>\n",
       "      <td>1504.0</td>\n",
       "      <td>1.167560e+09</td>\n",
       "      <td>1.167560e+09</td>\n",
       "      <td>5.353410</td>\n",
       "      <td>[0.0, 0.0, 0.0, 0.0, 0.0, 0.0, 0.0, 0.0, 0.0, ...</td>\n",
       "      <td>DCT</td>\n",
       "    </tr>\n",
       "    <tr>\n",
       "      <th>8</th>\n",
       "      <td>0.000000</td>\n",
       "      <td>1568.0</td>\n",
       "      <td>1.167560e+09</td>\n",
       "      <td>1.167560e+09</td>\n",
       "      <td>6.027961</td>\n",
       "      <td>[0.0, 0.0, 0.0, 0.0, 0.0, 0.0, 0.0, 0.0, 0.0, ...</td>\n",
       "      <td>DCT</td>\n",
       "    </tr>\n",
       "    <tr>\n",
       "      <th>9</th>\n",
       "      <td>0.005859</td>\n",
       "      <td>1568.0</td>\n",
       "      <td>1.167560e+09</td>\n",
       "      <td>1.167560e+09</td>\n",
       "      <td>5.374404</td>\n",
       "      <td>[0.0, 0.0, 0.0, 0.0, 0.0, 0.0, 0.0, 0.0, 0.0, ...</td>\n",
       "      <td>DCT</td>\n",
       "    </tr>\n",
       "  </tbody>\n",
       "</table>\n",
       "</div>"
      ],
      "text/plain": [
       "   Duration  FreqMax        GPSMax      GPSstart    SNRMax  \\\n",
       "0  0.000000      0.0  1.167560e+09  1.167560e+09  5.000000   \n",
       "1  0.000000      0.0  0.000000e+00  0.000000e+00  0.000000   \n",
       "2  0.017578    203.0  1.167560e+09  1.167560e+09  7.001511   \n",
       "3  0.000000    608.0  1.167560e+09  1.167560e+09  5.297187   \n",
       "4  0.011719    187.0  1.167560e+09  1.167560e+09  6.291858   \n",
       "5  0.000000   1536.0  1.167560e+09  1.167560e+09  5.090548   \n",
       "6  0.000000   1544.0  1.167560e+09  1.167560e+09  5.642491   \n",
       "7  0.005859   1504.0  1.167560e+09  1.167560e+09  5.353410   \n",
       "8  0.000000   1568.0  1.167560e+09  1.167560e+09  6.027961   \n",
       "9  0.005859   1568.0  1.167560e+09  1.167560e+09  5.374404   \n",
       "\n",
       "                                            WavCoeff WaveletFam  \n",
       "0  [0.0, 0.0, 0.0, 0.0, 0.0, 0.0, 0.0, 0.0, 0.0, ...   initWave  \n",
       "1  [0.0, 0.0, 0.0, 0.0, 0.0, 0.0, 0.0, 0.0, 0.0, ...        NaN  \n",
       "2  [0.0, 0.0, 0.0, 0.0, 0.0, 0.0, 0.0, 0.0, 0.0, ...        DCT  \n",
       "3  [0.0, 0.0, 0.0, 0.0, 0.0, 0.0, 0.0, 0.0, 0.0, ...        DCT  \n",
       "4  [0.0, 0.0, 0.0, 0.0, 0.0, 0.0, 0.0, 0.0, 0.0, ...        DCT  \n",
       "5  [0.0, 0.0, 0.0, 0.0, 0.0, 0.0, 0.0, 0.0, 0.0, ...        DCT  \n",
       "6  [0.0, 0.0, 0.0, 0.0, 0.0, 0.0, 0.0, 0.0, 0.0, ...        DCT  \n",
       "7  [0.0, 0.0, 0.0, 0.0, 0.0, 0.0, 0.0, 0.0, 0.0, ...        DCT  \n",
       "8  [0.0, 0.0, 0.0, 0.0, 0.0, 0.0, 0.0, 0.0, 0.0, ...        DCT  \n",
       "9  [0.0, 0.0, 0.0, 0.0, 0.0, 0.0, 0.0, 0.0, 0.0, ...        DCT  "
      ]
     },
     "execution_count": 3,
     "metadata": {},
     "output_type": "execute_result"
    }
   ],
   "source": [
    "triggers.head(10)"
   ]
  },
  {
   "cell_type": "code",
   "execution_count": 4,
   "metadata": {},
   "outputs": [
    {
     "data": {
      "text/plain": [
       "array(['initWave', nan, 'DCT'], dtype=object)"
      ]
     },
     "execution_count": 4,
     "metadata": {},
     "output_type": "execute_result"
    }
   ],
   "source": [
    "triggers['WaveletFam'].unique()"
   ]
  },
  {
   "cell_type": "code",
   "execution_count": 5,
   "metadata": {
    "scrolled": false
   },
   "outputs": [
    {
     "name": "stdout",
     "output_type": "stream",
     "text": [
      "(41, 7)\n"
     ]
    },
    {
     "data": {
      "text/plain": [
       "<matplotlib.text.Text at 0x7f60bd1b80f0>"
      ]
     },
     "execution_count": 5,
     "metadata": {},
     "output_type": "execute_result"
    },
    {
     "data": {
      "image/png": "[encoded data removed]",
      "text/plain": [
       "<matplotlib.figure.Figure at 0x7f60bd1ea320>"
      ]
     },
     "metadata": {},
     "output_type": "display_data"
    }
   ],
   "source": [
    " \n",
    "print (triggers.shape)\n",
    " \n",
    "from matplotlib.ticker import FormatStrFormatter\n",
    "color = [str(item/255.) for item in triggers.SNRMax]\n",
    "sc = plt.scatter(triggers.GPSMax,\n",
    "                 triggers.FreqMax, s=25, \\\n",
    "                 c=color)\n",
    "# legend\n",
    "cbar = plt.colorbar(sc)\n",
    "cbar.ax.set_yticklabels(['5','10', '20', '30', '40', '50', '60','>60'])\n",
    "cbar.set_label('SNR value', rotation=270)\n",
    "\n",
    "#plt.ylim(0, 2500)\n",
    " \n",
    "plt.gca().get_xaxis().get_major_formatter().set_useOffset(False)\n",
    "plt.gca().get_xaxis().get_major_formatter().set_scientific(False)\n",
    "plt.xlabel(\"time\")\n",
    "plt.ylabel(\"Frequency\")\n",
    "plt.title(\"Frequency versus time for triggers with SNR>5\")"
   ]
  },
  {
   "cell_type": "code",
   "execution_count": 6,
   "metadata": {},
   "outputs": [
    {
     "data": {
      "text/plain": [
       "<matplotlib.text.Text at 0x7f60b75a56a0>"
      ]
     },
     "execution_count": 6,
     "metadata": {},
     "output_type": "execute_result"
    },
    {
     "data": {
      "image/png": "[encoded data removed]",
      "text/plain": [
       "<matplotlib.figure.Figure at 0x7f60b78f8d30>"
      ]
     },
     "metadata": {},
     "output_type": "display_data"
    }
   ],
   "source": [
    "color = [str(item/255.) for item in triggers.FreqMax]\n",
    "sc = plt.scatter(triggers.GPSMax,\n",
    "                 triggers.SNRMax, s=25, \\\n",
    "                 c=color)\n",
    "# legend\n",
    "cbar = plt.colorbar(sc)\n",
    "cbar.ax.set_yticklabels(['5','10', '20', '30', '40', '50', '60','>60'])\n",
    "cbar.set_label('SNR value', rotation=270)\n",
    "\n",
    "plt.ylim(0, max(triggers.SNRMax))\n",
    " \n",
    "plt.gca().get_xaxis().get_major_formatter().set_useOffset(False)\n",
    "plt.gca().get_xaxis().get_major_formatter().set_scientific(False)\n",
    "plt.xlabel(\"time\")\n",
    "plt.ylabel(\"SNR\")\n",
    "plt.title(\"SNR versus time for triggers\")"
   ]
  },
  {
   "cell_type": "code",
   "execution_count": 7,
   "metadata": {},
   "outputs": [
    {
     "data": {
      "text/plain": [
       "<seaborn.axisgrid.PairGrid at 0x7f60bd22f908>"
      ]
     },
     "execution_count": 7,
     "metadata": {},
     "output_type": "execute_result"
    },
    {
     "data": {
      "image/png": "[encoded data removed]",
      "text/plain": [
       "<matplotlib.figure.Figure at 0x7f60bd22f8d0>"
      ]
     },
     "metadata": {},
     "output_type": "display_data"
    }
   ],
   "source": [
    "import seaborn as sns\n",
    "metatriggers=triggers[['FreqMax','SNRMax','Duration']]\n",
    "sns.pairplot(metatriggers)"
   ]
  },
  {
   "cell_type": "code",
   "execution_count": 8,
   "metadata": {},
   "outputs": [
    {
     "data": {
      "text/plain": [
       "<matplotlib.axes._subplots.AxesSubplot at 0x7f60b65ee668>"
      ]
     },
     "execution_count": 8,
     "metadata": {},
     "output_type": "execute_result"
    },
    {
     "data": {
      "image/png": "[encoded data removed]",
      "text/plain": [
       "<matplotlib.figure.Figure at 0x7f60b6792978>"
      ]
     },
     "metadata": {},
     "output_type": "display_data"
    }
   ],
   "source": [
    "triggers['FreqMax'].hist()"
   ]
  },
  {
   "cell_type": "code",
   "execution_count": 9,
   "metadata": {},
   "outputs": [
    {
     "data": {
      "text/plain": [
       "<matplotlib.axes._subplots.AxesSubplot at 0x7f60b657a748>"
      ]
     },
     "execution_count": 9,
     "metadata": {},
     "output_type": "execute_result"
    },
    {
     "data": {
      "image/png": "[encoded data removed]",
      "text/plain": [
       "<matplotlib.figure.Figure at 0x7f60b6766160>"
      ]
     },
     "metadata": {},
     "output_type": "display_data"
    }
   ],
   "source": [
    "triggers['SNRMax'].hist()"
   ]
  },
  {
   "cell_type": "code",
   "execution_count": 10,
   "metadata": {},
   "outputs": [
    {
     "data": {
      "text/plain": [
       "<matplotlib.axes._subplots.AxesSubplot at 0x7f60b6512e10>"
      ]
     },
     "execution_count": 10,
     "metadata": {},
     "output_type": "execute_result"
    },
    {
     "data": {
      "image/png": "[encoded data removed]",
      "text/plain": [
       "<matplotlib.figure.Figure at 0x7f60b6741940>"
      ]
     },
     "metadata": {},
     "output_type": "display_data"
    }
   ],
   "source": [
    "triggers['Duration'].hist()"
   ]
  },
  {
   "cell_type": "code",
   "execution_count": 11,
   "metadata": {},
   "outputs": [
    {
     "data": {
      "text/plain": [
       "Duration      float64\n",
       "FreqMax       float64\n",
       "GPSMax        float64\n",
       "GPSstart      float64\n",
       "SNRMax        float64\n",
       "WavCoeff       object\n",
       "WaveletFam     object\n",
       "dtype: object"
      ]
     },
     "execution_count": 11,
     "metadata": {},
     "output_type": "execute_result"
    }
   ],
   "source": [
    "triggers.dtypes"
   ]
  },
  {
   "cell_type": "code",
   "execution_count": 12,
   "metadata": {},
   "outputs": [
    {
     "data": {
      "text/plain": [
       "0    [0.0, 0.0, 0.0, 0.0, 0.0, 0.0, 0.0, 0.0, 0.0, ...\n",
       "1    [0.0, 0.0, 0.0, 0.0, 0.0, 0.0, 0.0, 0.0, 0.0, ...\n",
       "2    [0.0, 0.0, 0.0, 0.0, 0.0, 0.0, 0.0, 0.0, 0.0, ...\n",
       "3    [0.0, 0.0, 0.0, 0.0, 0.0, 0.0, 0.0, 0.0, 0.0, ...\n",
       "4    [0.0, 0.0, 0.0, 0.0, 0.0, 0.0, 0.0, 0.0, 0.0, ...\n",
       "5    [0.0, 0.0, 0.0, 0.0, 0.0, 0.0, 0.0, 0.0, 0.0, ...\n",
       "6    [0.0, 0.0, 0.0, 0.0, 0.0, 0.0, 0.0, 0.0, 0.0, ...\n",
       "7    [0.0, 0.0, 0.0, 0.0, 0.0, 0.0, 0.0, 0.0, 0.0, ...\n",
       "8    [0.0, 0.0, 0.0, 0.0, 0.0, 0.0, 0.0, 0.0, 0.0, ...\n",
       "9    [0.0, 0.0, 0.0, 0.0, 0.0, 0.0, 0.0, 0.0, 0.0, ...\n",
       "Name: WavCoeff, dtype: object"
      ]
     },
     "execution_count": 12,
     "metadata": {},
     "output_type": "execute_result"
    }
   ],
   "source": [
    "triggers['WavCoeff'].head(10)"
   ]
  },
  {
   "cell_type": "code",
   "execution_count": 13,
   "metadata": {},
   "outputs": [
    {
     "ename": "SyntaxError",
     "evalue": "invalid syntax (<ipython-input-13-a5a446393384>, line 1)",
     "output_type": "error",
     "traceback": [
      "\u001b[0;36m  File \u001b[0;32m\"<ipython-input-13-a5a446393384>\"\u001b[0;36m, line \u001b[0;32m1\u001b[0m\n\u001b[0;31m    triggers['WavCoeff'].\u001b[0m\n\u001b[0m                          ^\u001b[0m\n\u001b[0;31mSyntaxError\u001b[0m\u001b[0;31m:\u001b[0m invalid syntax\n"
     ]
    }
   ],
   "source": [
    "triggers['WavCoeff']. "
   ]
  },
  {
   "cell_type": "code",
   "execution_count": null,
   "metadata": {
    "collapsed": true
   },
   "outputs": [],
   "source": [
    "# expand df.tags into its own dataframe\n",
    "tags = triggers['WavCoeff'].apply(pd.Series)\n",
    "\n"
   ]
  },
  {
   "cell_type": "code",
   "execution_count": null,
   "metadata": {
    "collapsed": true
   },
   "outputs": [],
   "source": [
    "# rename each variable is tags\n",
    "tags = tags.rename(columns = lambda x : 'wavcoeff_' + str(x))\n",
    "\n",
    "# view the tags dataframe\n",
    "tags"
   ]
  },
  {
   "cell_type": "code",
   "execution_count": null,
   "metadata": {
    "collapsed": true
   },
   "outputs": [],
   "source": [
    "# join the tags dataframe back to the original dataframe\n",
    "pd.concat([df[:], tags[:]], axis=1)"
   ]
  },
  {
   "cell_type": "code",
   "execution_count": null,
   "metadata": {
    "collapsed": true
   },
   "outputs": [],
   "source": [
    "dff=np.asarray(df)"
   ]
  },
  {
   "cell_type": "code",
   "execution_count": null,
   "metadata": {
    "collapsed": true,
    "scrolled": false
   },
   "outputs": [],
   "source": [
    "dff.shape"
   ]
  },
  {
   "cell_type": "code",
   "execution_count": null,
   "metadata": {
    "collapsed": true,
    "scrolled": false
   },
   "outputs": [],
   "source": [
    "X = np.asarray(df)\n",
    "print (X.shape)\n",
    "pca_comp=10\n",
    "spectral_emb=2\n",
    "n_neighbors=15\n",
    "ml = pyWDFml.classify.WDFMLClassify(X)\n",
    "#ml.PreprocessingSparsePCA(pca_comp,spectral_emb,n_neighbors)\n",
    "ml.PreprocessingPCA(pca_comp,spectral_emb,n_neighbors,whiten=True)\n",
    "#ml.PreprocessingEmb(spectral_emb,n_neighbors)\n",
    "#ml.PreprocessingRBM(pca_comp,spectral_emb,n_neighbors)\n",
    "ml.Classify(10)\n",
    "#plt.figure(0)\n",
    "#plt.plot(ml.pca.explained_variance_)\n",
    "ml.PlotClustering()\n",
    "\n",
    "# write results on file\n",
    "outfile = direc+'H1-Clustered-Type-2048Hz-SNR4.txt'\n",
    "\n",
    "dfjo = pd.DataFrame(\n",
    "    dict(GPSMax=triggers['GPSMax'].values, FreqMax=triggers['FreqMax'].values, SNRMax=triggers['SNRMax'].values,\n",
    "         GPSstart=triggers['GPSstart'].values,Duration=triggers['Duration'], WaveletFam=triggers['WaveletFam'],LABEL=ml.labels.astype(int)),\n",
    "    columns=['GPSMax', 'FreqMax','SNRMax', 'GPSstart','Duration','WaveletFam','LABEL'])\n",
    "\n",
    "dfjo.to_csv(outfile, index_label='ID',float_format='%.5f')\n",
    "\n",
    "\n",
    "\n",
    "# legend\n",
    "groups = dfjo.groupby('LABEL')\n",
    "# Plot\n",
    "fig, ax = plt.subplots(figsize=(12, 8))\n",
    "ax.margins(0.05) # Optional, just adds 5% padding to the autoscaling\n",
    "for name, group in groups:\n",
    "    ax.plot(group.GPSMax, group.FreqMax, marker='o', linestyle='', ms=7, label=name)\n",
    "ax.legend()\n",
    "ax.get_xaxis().get_major_formatter().set_useOffset(False)\n",
    "ax.get_xaxis().get_major_formatter().set_scientific(False)\n",
    "plt.show()"
   ]
  },
  {
   "cell_type": "code",
   "execution_count": null,
   "metadata": {
    "collapsed": true
   },
   "outputs": [],
   "source": []
  }
 ],
 "metadata": {
  "kernelspec": {
   "display_name": "Python 3",
   "language": "python",
   "name": "python3"
  },
  "language_info": {
   "codemirror_mode": {
    "name": "ipython",
    "version": 3
   },
   "file_extension": ".py",
   "mimetype": "text/x-python",
   "name": "python",
   "nbconvert_exporter": "python",
   "pygments_lexer": "ipython3",
   "version": "3.5.3"
  }
 },
 "nbformat": 4,
 "nbformat_minor": 1
}
