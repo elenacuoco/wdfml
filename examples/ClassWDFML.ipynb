{
 "cells": [
  {
   "cell_type": "code",
   "execution_count": 1,
   "metadata": {
    "collapsed": true,
    "deletable": true,
    "editable": true
   },
   "outputs": [],
   "source": [
    "import pandas as pd\n",
    "import matplotlib.pylab as plt\n",
    " \n",
    "import numpy as np\n",
    "import pyWDFml.classify\n",
    "%matplotlib inline\n",
    "# Alternatives include bmh, fivethirtyeight, ggplot,\n",
    "# dark_background, seaborn-deep, etc\n",
    "plt.style.use('ggplot') \n",
    "plt.rcParams['font.monospace'] = 'Ubuntu Mono'\n",
    "plt.rcParams['font.size'] = 10\n",
    "plt.rcParams['axes.labelsize'] = 10\n",
    "plt.rcParams['axes.labelweight'] = 'bold'\n",
    "plt.rcParams['xtick.labelsize'] = 8\n",
    "plt.rcParams['ytick.labelsize'] = 8\n",
    "plt.rcParams['legend.fontsize'] = 10\n",
    "plt.rcParams['figure.titlesize'] = 12\n",
    "plt.rcParams['figure.figsize'] = (14, 10)\n",
    " \n",
    "colors = np.array([x for x in 'bgrcmykbgrcmykbgrcmykbgrcmyk'])\n",
    "colors = np.hstack([colors] * 20)"
   ]
  },
  {
   "cell_type": "code",
   "execution_count": 6,
   "metadata": {
    "collapsed": false,
    "deletable": true,
    "editable": true
   },
   "outputs": [],
   "source": [
    "direc='/home/cuoco/CleanWorks/WDF/wdfml/wdfml/output/H1:GDS-CALIB_STRAIN_1167559536/' \n",
    "#fileIn='WDFTrigger-H1:GDS-CALIB_STRAIN-GPS1167559536-AR3000-Win2048-Ov2000-SNR5.csv'\n",
    "fileIn='WDFTrigger-H1:GDS-CALIB_STRAIN-GPS1167559536-AR3000-Win2048-Ov2000-SNR5.pkl'\n",
    "infile=direc+fileIn\n",
    " \n",
    "#triggers = pd.read_csv(infile, index_col=False)\n",
    "objs = []\n",
    "triggers=pd.read_pickle(infile)"
   ]
  },
  {
   "cell_type": "code",
   "execution_count": 7,
   "metadata": {
    "collapsed": false
   },
   "outputs": [
    {
     "ename": "TypeError",
     "evalue": "file must have 'read' and 'readline' attributes",
     "output_type": "error",
     "traceback": [
      "\u001b[0;31m---------------------------------------------------------------------------\u001b[0m",
      "\u001b[0;31mTypeError\u001b[0m                                 Traceback (most recent call last)",
      "\u001b[0;32m<ipython-input-7-39fdd828297a>\u001b[0m in \u001b[0;36m<module>\u001b[0;34m()\u001b[0m\n\u001b[1;32m      3\u001b[0m \u001b[0;32mwhile\u001b[0m \u001b[0;36m1\u001b[0m\u001b[0;34m:\u001b[0m\u001b[0;34m\u001b[0m\u001b[0m\n\u001b[1;32m      4\u001b[0m     \u001b[0;32mtry\u001b[0m\u001b[0;34m:\u001b[0m\u001b[0;34m\u001b[0m\u001b[0m\n\u001b[0;32m----> 5\u001b[0;31m         \u001b[0mobjs\u001b[0m\u001b[0;34m.\u001b[0m\u001b[0mappend\u001b[0m\u001b[0;34m(\u001b[0m\u001b[0mpickle\u001b[0m\u001b[0;34m.\u001b[0m\u001b[0mload\u001b[0m\u001b[0;34m(\u001b[0m\u001b[0minfile\u001b[0m\u001b[0;34m)\u001b[0m\u001b[0;34m)\u001b[0m\u001b[0;34m\u001b[0m\u001b[0m\n\u001b[0m\u001b[1;32m      6\u001b[0m     \u001b[0;32mexcept\u001b[0m \u001b[0mEOFError\u001b[0m\u001b[0;34m:\u001b[0m\u001b[0;34m\u001b[0m\u001b[0m\n\u001b[1;32m      7\u001b[0m         \u001b[0;32mbreak\u001b[0m\u001b[0;34m\u001b[0m\u001b[0m\n",
      "\u001b[0;31mTypeError\u001b[0m: file must have 'read' and 'readline' attributes"
     ]
    }
   ],
   "source": [
    "import pickle\n",
    "objs = []\n",
    "while 1:\n",
    "    try:\n",
    "        objs.append(pickle.load(infile))\n",
    "    except EOFError:\n",
    "        break"
   ]
  },
  {
   "cell_type": "code",
   "execution_count": 4,
   "metadata": {
    "collapsed": false,
    "deletable": true,
    "editable": true,
    "scrolled": true
   },
   "outputs": [
    {
     "ename": "AttributeError",
     "evalue": "'dict' object has no attribute 'head'",
     "output_type": "error",
     "traceback": [
      "\u001b[0;31m---------------------------------------------------------------------------\u001b[0m",
      "\u001b[0;31mAttributeError\u001b[0m                            Traceback (most recent call last)",
      "\u001b[0;32m<ipython-input-4-f237433d2851>\u001b[0m in \u001b[0;36m<module>\u001b[0;34m()\u001b[0m\n\u001b[0;32m----> 1\u001b[0;31m \u001b[0mtriggers\u001b[0m\u001b[0;34m.\u001b[0m\u001b[0mhead\u001b[0m\u001b[0;34m(\u001b[0m\u001b[0;36m10\u001b[0m\u001b[0;34m)\u001b[0m\u001b[0;34m\u001b[0m\u001b[0m\n\u001b[0m",
      "\u001b[0;31mAttributeError\u001b[0m: 'dict' object has no attribute 'head'"
     ]
    }
   ],
   "source": [
    "triggers.head(10)"
   ]
  },
  {
   "cell_type": "code",
   "execution_count": null,
   "metadata": {
    "collapsed": false,
    "deletable": true,
    "editable": true
   },
   "outputs": [],
   "source": [
    "triggers['WaveletFam'].unique()"
   ]
  },
  {
   "cell_type": "code",
   "execution_count": null,
   "metadata": {
    "collapsed": false,
    "deletable": true,
    "editable": true,
    "scrolled": false
   },
   "outputs": [],
   "source": [
    " \n",
    "print (triggers.shape)\n",
    " \n",
    "from matplotlib.ticker import FormatStrFormatter\n",
    "color = [str(item/255.) for item in triggers.SNRMax]\n",
    "sc = plt.scatter(triggers.GPSMax,\n",
    "                 triggers.FreqMax, s=25, \\\n",
    "                 c=color)\n",
    "# legend\n",
    "cbar = plt.colorbar(sc)\n",
    "cbar.ax.set_yticklabels(['5','10', '20', '30', '40', '50', '60','>60'])\n",
    "cbar.set_label('SNR value', rotation=270)\n",
    "\n",
    "plt.ylim(0, 2500)\n",
    " \n",
    "plt.gca().get_xaxis().get_major_formatter().set_useOffset(False)\n",
    "plt.gca().get_xaxis().get_major_formatter().set_scientific(False)\n",
    "plt.xlabel(\"time\")\n",
    "plt.ylabel(\"Frequency\")\n",
    "plt.title(\"Frequency versus time for triggers with SNR>5\")"
   ]
  },
  {
   "cell_type": "code",
   "execution_count": null,
   "metadata": {
    "collapsed": false,
    "deletable": true,
    "editable": true
   },
   "outputs": [],
   "source": [
    "color = [str(item/255.) for item in triggers.FreqMax]\n",
    "sc = plt.scatter(triggers.GPSMax,\n",
    "                 triggers.SNRMax, s=25, \\\n",
    "                 c=color)\n",
    "# legend\n",
    "cbar = plt.colorbar(sc)\n",
    "cbar.ax.set_yticklabels(['5','10', '20', '30', '40', '50', '60','>60'])\n",
    "cbar.set_label('SNR value', rotation=270)\n",
    "\n",
    "plt.ylim(0, max(triggers.SNRMax))\n",
    " \n",
    "plt.gca().get_xaxis().get_major_formatter().set_useOffset(False)\n",
    "plt.gca().get_xaxis().get_major_formatter().set_scientific(False)\n",
    "plt.xlabel(\"time\")\n",
    "plt.ylabel(\"SNR\")\n",
    "plt.title(\"SNR versus time for triggers\")"
   ]
  },
  {
   "cell_type": "code",
   "execution_count": null,
   "metadata": {
    "collapsed": false,
    "deletable": true,
    "editable": true
   },
   "outputs": [],
   "source": [
    "import seaborn as sns\n",
    "metatriggers=triggers[['FreqMax','SNRMax','Duration']]\n",
    "sns.pairplot(metatriggers)"
   ]
  },
  {
   "cell_type": "code",
   "execution_count": null,
   "metadata": {
    "collapsed": false,
    "deletable": true,
    "editable": true
   },
   "outputs": [],
   "source": [
    "triggers['FreqMax'].hist()"
   ]
  },
  {
   "cell_type": "code",
   "execution_count": null,
   "metadata": {
    "collapsed": false,
    "deletable": true,
    "editable": true
   },
   "outputs": [],
   "source": [
    "triggers['SNRMax'].hist()"
   ]
  },
  {
   "cell_type": "code",
   "execution_count": null,
   "metadata": {
    "collapsed": false,
    "deletable": true,
    "editable": true
   },
   "outputs": [],
   "source": [
    "triggers['Duration'].hist()"
   ]
  },
  {
   "cell_type": "code",
   "execution_count": null,
   "metadata": {
    "collapsed": false,
    "deletable": true,
    "editable": true,
    "scrolled": false
   },
   "outputs": [],
   "source": [
    "#list_todrop = ['GPSMax', 'SNRMax', 'FreqMax', 'WaveletFam', 'GPSstart', 'Duration']\n",
    "\n",
    "from sklearn.preprocessing import LabelEncoder\n",
    "lbl =  LabelEncoder()\n",
    "triggers['WaveletFam']=lbl.fit_transform(list(triggers['WaveletFam'].values))\n",
    "print (lbl.classes_)\n",
    "list_todrop = ['GPSMax','GPSstart']\n",
    "triggers=triggers[triggers.SNRMax>=5]\n",
    "new = triggers.drop(list_todrop, axis=1)\n",
    "\n",
    "X = np.asarray(new.astype(np.float))\n",
    "print (X.shape)\n",
    "pca_comp=10\n",
    "spectral_emb=2\n",
    "n_neighbors=15\n",
    "ml = pyWDFml.classify.WDFMLClassify(X)\n",
    "#ml.PreprocessingSparsePCA(pca_comp,spectral_emb,n_neighbors)\n",
    "ml.PreprocessingPCA(pca_comp,spectral_emb,n_neighbors,whiten=True)\n",
    "#ml.PreprocessingEmb(spectral_emb,n_neighbors)\n",
    "#ml.PreprocessingRBM(pca_comp,spectral_emb,n_neighbors)\n",
    "ml.Classify(10)\n",
    "#plt.figure(0)\n",
    "#plt.plot(ml.pca.explained_variance_)\n",
    "ml.PlotClustering()\n",
    "\n",
    "# write results on file\n",
    "outfile = direc+'H1-Clustered-Type-2048Hz-SNR4.txt'\n",
    "\n",
    "dfjo = pd.DataFrame(\n",
    "    dict(GPSMax=triggers['GPSMax'].values, FreqMax=triggers['FreqMax'].values, SNRMax=triggers['SNRMax'].values,\n",
    "         GPSstart=triggers['GPSstart'].values,Duration=triggers['Duration'], WaveletFam=triggers['WaveletFam'],LABEL=ml.labels.astype(int)),\n",
    "    columns=['GPSMax', 'FreqMax','SNRMax', 'GPSstart','Duration','WaveletFam','LABEL'])\n",
    "\n",
    "dfjo.to_csv(outfile, index_label='ID',float_format='%.5f')\n",
    "\n",
    "\n",
    "\n",
    "# legend\n",
    "groups = dfjo.groupby('LABEL')\n",
    "# Plot\n",
    "fig, ax = plt.subplots(figsize=(12, 8))\n",
    "ax.margins(0.05) # Optional, just adds 5% padding to the autoscaling\n",
    "for name, group in groups:\n",
    "    ax.plot(group.GPSMax, group.FreqMax, marker='o', linestyle='', ms=7, label=name)\n",
    "ax.legend()\n",
    "ax.get_xaxis().get_major_formatter().set_useOffset(False)\n",
    "ax.get_xaxis().get_major_formatter().set_scientific(False)\n",
    "plt.show()"
   ]
  },
  {
   "cell_type": "code",
   "execution_count": null,
   "metadata": {
    "collapsed": true,
    "deletable": true,
    "editable": true
   },
   "outputs": [],
   "source": []
  }
 ],
 "metadata": {
  "kernelspec": {
   "display_name": "Python 3",
   "language": "python",
   "name": "python3"
  },
  "language_info": {
   "codemirror_mode": {
    "name": "ipython",
    "version": 3
   },
   "file_extension": ".py",
   "mimetype": "text/x-python",
   "name": "python",
   "nbconvert_exporter": "python",
   "pygments_lexer": "ipython3",
   "version": "3.5.2+"
  }
 },
 "nbformat": 4,
 "nbformat_minor": 1
}
